{
 "cells": [
  {
   "cell_type": "markdown",
   "id": "20b8dd54",
   "metadata": {},
   "source": [
    "In this document we shortly compare the trends in the results of small scale simulations and results illustrated in Figure 5 of the paper. You can see that the trends in mean Query Completion Times (QCT), tail QCT, mean Flow Completion Times (FCT), and tail FCT are similar. Before running these cells, make sure you have run ```simple_qct.py```"
   ]
  },
  {
   "cell_type": "code",
   "execution_count": null,
   "id": "3eecdaa5",
   "metadata": {},
   "outputs": [],
   "source": [
    "from IPython.display import Image, display\n",
    "\n",
    "display(Image(filename=\"figs/{}.png\".format('simple_mean_fct')))\n",
    "display(Image(filename=\"paper_figs/{}.png\".format('qps25fct')))"
   ]
  },
  {
   "cell_type": "code",
   "execution_count": null,
   "id": "8133bc73",
   "metadata": {},
   "outputs": [],
   "source": [
    "display(Image(filename=\"figs/{}.png\".format('simple_tail_fct')))\n",
    "display(Image(filename=\"paper_figs/{}.png\".format('qps25tcpp99fct')))"
   ]
  },
  {
   "cell_type": "code",
   "execution_count": null,
   "id": "9b332769",
   "metadata": {},
   "outputs": [],
   "source": [
    "display(Image(filename=\"figs/{}.png\".format('simple_mean_qct')))\n",
    "display(Image(filename=\"paper_figs/{}.png\".format('qps25')))"
   ]
  },
  {
   "cell_type": "code",
   "execution_count": null,
   "id": "31faee4e",
   "metadata": {},
   "outputs": [],
   "source": [
    "display(Image(filename=\"figs/{}.png\".format('simple_tail_qct')))\n",
    "display(Image(filename=\"paper_figs/{}.png\".format('qps25p99qct')))"
   ]
  }
 ],
 "metadata": {
  "kernelspec": {
   "display_name": "Python 3 (ipykernel)",
   "language": "python",
   "name": "python3"
  },
  "language_info": {
   "codemirror_mode": {
    "name": "ipython",
    "version": 3
   },
   "file_extension": ".py",
   "mimetype": "text/x-python",
   "name": "python",
   "nbconvert_exporter": "python",
   "pygments_lexer": "ipython3",
   "version": "3.7.9"
  }
 },
 "nbformat": 4,
 "nbformat_minor": 5
}
